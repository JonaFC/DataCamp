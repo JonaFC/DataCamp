{
 "cells": [
  {
   "cell_type": "markdown",
   "id": "ab18e74c",
   "metadata": {},
   "source": [
    "# Supervised learning with scikit-learn\n",
    "\n",
    "## Jonathan Bautista"
   ]
  },
  {
   "cell_type": "markdown",
   "id": "545ac581",
   "metadata": {},
   "source": [
    "## Clasificación  (K vecinos más cercanos)"
   ]
  },
  {
   "cell_type": "code",
   "execution_count": 107,
   "id": "c8939718",
   "metadata": {},
   "outputs": [],
   "source": [
    "from sklearn.neighbors import KNeighborsClassifier"
   ]
  },
  {
   "cell_type": "code",
   "execution_count": 7,
   "id": "64d117b4",
   "metadata": {},
   "outputs": [],
   "source": [
    "import pandas as pd\n",
    "import numpy as np"
   ]
  },
  {
   "cell_type": "code",
   "execution_count": 108,
   "id": "551846d3",
   "metadata": {},
   "outputs": [],
   "source": [
    "churn_df = pd.read_csv('./telecom_churn_clean.csv')"
   ]
  },
  {
   "cell_type": "code",
   "execution_count": 14,
   "id": "7c6ab045",
   "metadata": {},
   "outputs": [],
   "source": [
    "X = churn_df[['total_day_charge','total_eve_charge']].values\n",
    "y = churn_df['churn'].values"
   ]
  },
  {
   "cell_type": "code",
   "execution_count": 5,
   "id": "eaa61732",
   "metadata": {},
   "outputs": [
    {
     "name": "stdout",
     "output_type": "stream",
     "text": [
      "(3333, 2) (3333,)\n"
     ]
    }
   ],
   "source": [
    "print(X.shape,y.shape)"
   ]
  },
  {
   "cell_type": "code",
   "execution_count": 6,
   "id": "ae34b87d",
   "metadata": {},
   "outputs": [
    {
     "data": {
      "text/html": [
       "<style>#sk-container-id-1 {\n",
       "  /* Definition of color scheme common for light and dark mode */\n",
       "  --sklearn-color-text: #000;\n",
       "  --sklearn-color-text-muted: #666;\n",
       "  --sklearn-color-line: gray;\n",
       "  /* Definition of color scheme for unfitted estimators */\n",
       "  --sklearn-color-unfitted-level-0: #fff5e6;\n",
       "  --sklearn-color-unfitted-level-1: #f6e4d2;\n",
       "  --sklearn-color-unfitted-level-2: #ffe0b3;\n",
       "  --sklearn-color-unfitted-level-3: chocolate;\n",
       "  /* Definition of color scheme for fitted estimators */\n",
       "  --sklearn-color-fitted-level-0: #f0f8ff;\n",
       "  --sklearn-color-fitted-level-1: #d4ebff;\n",
       "  --sklearn-color-fitted-level-2: #b3dbfd;\n",
       "  --sklearn-color-fitted-level-3: cornflowerblue;\n",
       "\n",
       "  /* Specific color for light theme */\n",
       "  --sklearn-color-text-on-default-background: var(--sg-text-color, var(--theme-code-foreground, var(--jp-content-font-color1, black)));\n",
       "  --sklearn-color-background: var(--sg-background-color, var(--theme-background, var(--jp-layout-color0, white)));\n",
       "  --sklearn-color-border-box: var(--sg-text-color, var(--theme-code-foreground, var(--jp-content-font-color1, black)));\n",
       "  --sklearn-color-icon: #696969;\n",
       "\n",
       "  @media (prefers-color-scheme: dark) {\n",
       "    /* Redefinition of color scheme for dark theme */\n",
       "    --sklearn-color-text-on-default-background: var(--sg-text-color, var(--theme-code-foreground, var(--jp-content-font-color1, white)));\n",
       "    --sklearn-color-background: var(--sg-background-color, var(--theme-background, var(--jp-layout-color0, #111)));\n",
       "    --sklearn-color-border-box: var(--sg-text-color, var(--theme-code-foreground, var(--jp-content-font-color1, white)));\n",
       "    --sklearn-color-icon: #878787;\n",
       "  }\n",
       "}\n",
       "\n",
       "#sk-container-id-1 {\n",
       "  color: var(--sklearn-color-text);\n",
       "}\n",
       "\n",
       "#sk-container-id-1 pre {\n",
       "  padding: 0;\n",
       "}\n",
       "\n",
       "#sk-container-id-1 input.sk-hidden--visually {\n",
       "  border: 0;\n",
       "  clip: rect(1px 1px 1px 1px);\n",
       "  clip: rect(1px, 1px, 1px, 1px);\n",
       "  height: 1px;\n",
       "  margin: -1px;\n",
       "  overflow: hidden;\n",
       "  padding: 0;\n",
       "  position: absolute;\n",
       "  width: 1px;\n",
       "}\n",
       "\n",
       "#sk-container-id-1 div.sk-dashed-wrapped {\n",
       "  border: 1px dashed var(--sklearn-color-line);\n",
       "  margin: 0 0.4em 0.5em 0.4em;\n",
       "  box-sizing: border-box;\n",
       "  padding-bottom: 0.4em;\n",
       "  background-color: var(--sklearn-color-background);\n",
       "}\n",
       "\n",
       "#sk-container-id-1 div.sk-container {\n",
       "  /* jupyter's `normalize.less` sets `[hidden] { display: none; }`\n",
       "     but bootstrap.min.css set `[hidden] { display: none !important; }`\n",
       "     so we also need the `!important` here to be able to override the\n",
       "     default hidden behavior on the sphinx rendered scikit-learn.org.\n",
       "     See: https://github.com/scikit-learn/scikit-learn/issues/21755 */\n",
       "  display: inline-block !important;\n",
       "  position: relative;\n",
       "}\n",
       "\n",
       "#sk-container-id-1 div.sk-text-repr-fallback {\n",
       "  display: none;\n",
       "}\n",
       "\n",
       "div.sk-parallel-item,\n",
       "div.sk-serial,\n",
       "div.sk-item {\n",
       "  /* draw centered vertical line to link estimators */\n",
       "  background-image: linear-gradient(var(--sklearn-color-text-on-default-background), var(--sklearn-color-text-on-default-background));\n",
       "  background-size: 2px 100%;\n",
       "  background-repeat: no-repeat;\n",
       "  background-position: center center;\n",
       "}\n",
       "\n",
       "/* Parallel-specific style estimator block */\n",
       "\n",
       "#sk-container-id-1 div.sk-parallel-item::after {\n",
       "  content: \"\";\n",
       "  width: 100%;\n",
       "  border-bottom: 2px solid var(--sklearn-color-text-on-default-background);\n",
       "  flex-grow: 1;\n",
       "}\n",
       "\n",
       "#sk-container-id-1 div.sk-parallel {\n",
       "  display: flex;\n",
       "  align-items: stretch;\n",
       "  justify-content: center;\n",
       "  background-color: var(--sklearn-color-background);\n",
       "  position: relative;\n",
       "}\n",
       "\n",
       "#sk-container-id-1 div.sk-parallel-item {\n",
       "  display: flex;\n",
       "  flex-direction: column;\n",
       "}\n",
       "\n",
       "#sk-container-id-1 div.sk-parallel-item:first-child::after {\n",
       "  align-self: flex-end;\n",
       "  width: 50%;\n",
       "}\n",
       "\n",
       "#sk-container-id-1 div.sk-parallel-item:last-child::after {\n",
       "  align-self: flex-start;\n",
       "  width: 50%;\n",
       "}\n",
       "\n",
       "#sk-container-id-1 div.sk-parallel-item:only-child::after {\n",
       "  width: 0;\n",
       "}\n",
       "\n",
       "/* Serial-specific style estimator block */\n",
       "\n",
       "#sk-container-id-1 div.sk-serial {\n",
       "  display: flex;\n",
       "  flex-direction: column;\n",
       "  align-items: center;\n",
       "  background-color: var(--sklearn-color-background);\n",
       "  padding-right: 1em;\n",
       "  padding-left: 1em;\n",
       "}\n",
       "\n",
       "\n",
       "/* Toggleable style: style used for estimator/Pipeline/ColumnTransformer box that is\n",
       "clickable and can be expanded/collapsed.\n",
       "- Pipeline and ColumnTransformer use this feature and define the default style\n",
       "- Estimators will overwrite some part of the style using the `sk-estimator` class\n",
       "*/\n",
       "\n",
       "/* Pipeline and ColumnTransformer style (default) */\n",
       "\n",
       "#sk-container-id-1 div.sk-toggleable {\n",
       "  /* Default theme specific background. It is overwritten whether we have a\n",
       "  specific estimator or a Pipeline/ColumnTransformer */\n",
       "  background-color: var(--sklearn-color-background);\n",
       "}\n",
       "\n",
       "/* Toggleable label */\n",
       "#sk-container-id-1 label.sk-toggleable__label {\n",
       "  cursor: pointer;\n",
       "  display: flex;\n",
       "  width: 100%;\n",
       "  margin-bottom: 0;\n",
       "  padding: 0.5em;\n",
       "  box-sizing: border-box;\n",
       "  text-align: center;\n",
       "  align-items: start;\n",
       "  justify-content: space-between;\n",
       "  gap: 0.5em;\n",
       "}\n",
       "\n",
       "#sk-container-id-1 label.sk-toggleable__label .caption {\n",
       "  font-size: 0.6rem;\n",
       "  font-weight: lighter;\n",
       "  color: var(--sklearn-color-text-muted);\n",
       "}\n",
       "\n",
       "#sk-container-id-1 label.sk-toggleable__label-arrow:before {\n",
       "  /* Arrow on the left of the label */\n",
       "  content: \"▸\";\n",
       "  float: left;\n",
       "  margin-right: 0.25em;\n",
       "  color: var(--sklearn-color-icon);\n",
       "}\n",
       "\n",
       "#sk-container-id-1 label.sk-toggleable__label-arrow:hover:before {\n",
       "  color: var(--sklearn-color-text);\n",
       "}\n",
       "\n",
       "/* Toggleable content - dropdown */\n",
       "\n",
       "#sk-container-id-1 div.sk-toggleable__content {\n",
       "  display: none;\n",
       "  text-align: left;\n",
       "  /* unfitted */\n",
       "  background-color: var(--sklearn-color-unfitted-level-0);\n",
       "}\n",
       "\n",
       "#sk-container-id-1 div.sk-toggleable__content.fitted {\n",
       "  /* fitted */\n",
       "  background-color: var(--sklearn-color-fitted-level-0);\n",
       "}\n",
       "\n",
       "#sk-container-id-1 div.sk-toggleable__content pre {\n",
       "  margin: 0.2em;\n",
       "  border-radius: 0.25em;\n",
       "  color: var(--sklearn-color-text);\n",
       "  /* unfitted */\n",
       "  background-color: var(--sklearn-color-unfitted-level-0);\n",
       "}\n",
       "\n",
       "#sk-container-id-1 div.sk-toggleable__content.fitted pre {\n",
       "  /* unfitted */\n",
       "  background-color: var(--sklearn-color-fitted-level-0);\n",
       "}\n",
       "\n",
       "#sk-container-id-1 input.sk-toggleable__control:checked~div.sk-toggleable__content {\n",
       "  /* Expand drop-down */\n",
       "  display: block;\n",
       "  width: 100%;\n",
       "  overflow: visible;\n",
       "}\n",
       "\n",
       "#sk-container-id-1 input.sk-toggleable__control:checked~label.sk-toggleable__label-arrow:before {\n",
       "  content: \"▾\";\n",
       "}\n",
       "\n",
       "/* Pipeline/ColumnTransformer-specific style */\n",
       "\n",
       "#sk-container-id-1 div.sk-label input.sk-toggleable__control:checked~label.sk-toggleable__label {\n",
       "  color: var(--sklearn-color-text);\n",
       "  background-color: var(--sklearn-color-unfitted-level-2);\n",
       "}\n",
       "\n",
       "#sk-container-id-1 div.sk-label.fitted input.sk-toggleable__control:checked~label.sk-toggleable__label {\n",
       "  background-color: var(--sklearn-color-fitted-level-2);\n",
       "}\n",
       "\n",
       "/* Estimator-specific style */\n",
       "\n",
       "/* Colorize estimator box */\n",
       "#sk-container-id-1 div.sk-estimator input.sk-toggleable__control:checked~label.sk-toggleable__label {\n",
       "  /* unfitted */\n",
       "  background-color: var(--sklearn-color-unfitted-level-2);\n",
       "}\n",
       "\n",
       "#sk-container-id-1 div.sk-estimator.fitted input.sk-toggleable__control:checked~label.sk-toggleable__label {\n",
       "  /* fitted */\n",
       "  background-color: var(--sklearn-color-fitted-level-2);\n",
       "}\n",
       "\n",
       "#sk-container-id-1 div.sk-label label.sk-toggleable__label,\n",
       "#sk-container-id-1 div.sk-label label {\n",
       "  /* The background is the default theme color */\n",
       "  color: var(--sklearn-color-text-on-default-background);\n",
       "}\n",
       "\n",
       "/* On hover, darken the color of the background */\n",
       "#sk-container-id-1 div.sk-label:hover label.sk-toggleable__label {\n",
       "  color: var(--sklearn-color-text);\n",
       "  background-color: var(--sklearn-color-unfitted-level-2);\n",
       "}\n",
       "\n",
       "/* Label box, darken color on hover, fitted */\n",
       "#sk-container-id-1 div.sk-label.fitted:hover label.sk-toggleable__label.fitted {\n",
       "  color: var(--sklearn-color-text);\n",
       "  background-color: var(--sklearn-color-fitted-level-2);\n",
       "}\n",
       "\n",
       "/* Estimator label */\n",
       "\n",
       "#sk-container-id-1 div.sk-label label {\n",
       "  font-family: monospace;\n",
       "  font-weight: bold;\n",
       "  display: inline-block;\n",
       "  line-height: 1.2em;\n",
       "}\n",
       "\n",
       "#sk-container-id-1 div.sk-label-container {\n",
       "  text-align: center;\n",
       "}\n",
       "\n",
       "/* Estimator-specific */\n",
       "#sk-container-id-1 div.sk-estimator {\n",
       "  font-family: monospace;\n",
       "  border: 1px dotted var(--sklearn-color-border-box);\n",
       "  border-radius: 0.25em;\n",
       "  box-sizing: border-box;\n",
       "  margin-bottom: 0.5em;\n",
       "  /* unfitted */\n",
       "  background-color: var(--sklearn-color-unfitted-level-0);\n",
       "}\n",
       "\n",
       "#sk-container-id-1 div.sk-estimator.fitted {\n",
       "  /* fitted */\n",
       "  background-color: var(--sklearn-color-fitted-level-0);\n",
       "}\n",
       "\n",
       "/* on hover */\n",
       "#sk-container-id-1 div.sk-estimator:hover {\n",
       "  /* unfitted */\n",
       "  background-color: var(--sklearn-color-unfitted-level-2);\n",
       "}\n",
       "\n",
       "#sk-container-id-1 div.sk-estimator.fitted:hover {\n",
       "  /* fitted */\n",
       "  background-color: var(--sklearn-color-fitted-level-2);\n",
       "}\n",
       "\n",
       "/* Specification for estimator info (e.g. \"i\" and \"?\") */\n",
       "\n",
       "/* Common style for \"i\" and \"?\" */\n",
       "\n",
       ".sk-estimator-doc-link,\n",
       "a:link.sk-estimator-doc-link,\n",
       "a:visited.sk-estimator-doc-link {\n",
       "  float: right;\n",
       "  font-size: smaller;\n",
       "  line-height: 1em;\n",
       "  font-family: monospace;\n",
       "  background-color: var(--sklearn-color-background);\n",
       "  border-radius: 1em;\n",
       "  height: 1em;\n",
       "  width: 1em;\n",
       "  text-decoration: none !important;\n",
       "  margin-left: 0.5em;\n",
       "  text-align: center;\n",
       "  /* unfitted */\n",
       "  border: var(--sklearn-color-unfitted-level-1) 1pt solid;\n",
       "  color: var(--sklearn-color-unfitted-level-1);\n",
       "}\n",
       "\n",
       ".sk-estimator-doc-link.fitted,\n",
       "a:link.sk-estimator-doc-link.fitted,\n",
       "a:visited.sk-estimator-doc-link.fitted {\n",
       "  /* fitted */\n",
       "  border: var(--sklearn-color-fitted-level-1) 1pt solid;\n",
       "  color: var(--sklearn-color-fitted-level-1);\n",
       "}\n",
       "\n",
       "/* On hover */\n",
       "div.sk-estimator:hover .sk-estimator-doc-link:hover,\n",
       ".sk-estimator-doc-link:hover,\n",
       "div.sk-label-container:hover .sk-estimator-doc-link:hover,\n",
       ".sk-estimator-doc-link:hover {\n",
       "  /* unfitted */\n",
       "  background-color: var(--sklearn-color-unfitted-level-3);\n",
       "  color: var(--sklearn-color-background);\n",
       "  text-decoration: none;\n",
       "}\n",
       "\n",
       "div.sk-estimator.fitted:hover .sk-estimator-doc-link.fitted:hover,\n",
       ".sk-estimator-doc-link.fitted:hover,\n",
       "div.sk-label-container:hover .sk-estimator-doc-link.fitted:hover,\n",
       ".sk-estimator-doc-link.fitted:hover {\n",
       "  /* fitted */\n",
       "  background-color: var(--sklearn-color-fitted-level-3);\n",
       "  color: var(--sklearn-color-background);\n",
       "  text-decoration: none;\n",
       "}\n",
       "\n",
       "/* Span, style for the box shown on hovering the info icon */\n",
       ".sk-estimator-doc-link span {\n",
       "  display: none;\n",
       "  z-index: 9999;\n",
       "  position: relative;\n",
       "  font-weight: normal;\n",
       "  right: .2ex;\n",
       "  padding: .5ex;\n",
       "  margin: .5ex;\n",
       "  width: min-content;\n",
       "  min-width: 20ex;\n",
       "  max-width: 50ex;\n",
       "  color: var(--sklearn-color-text);\n",
       "  box-shadow: 2pt 2pt 4pt #999;\n",
       "  /* unfitted */\n",
       "  background: var(--sklearn-color-unfitted-level-0);\n",
       "  border: .5pt solid var(--sklearn-color-unfitted-level-3);\n",
       "}\n",
       "\n",
       ".sk-estimator-doc-link.fitted span {\n",
       "  /* fitted */\n",
       "  background: var(--sklearn-color-fitted-level-0);\n",
       "  border: var(--sklearn-color-fitted-level-3);\n",
       "}\n",
       "\n",
       ".sk-estimator-doc-link:hover span {\n",
       "  display: block;\n",
       "}\n",
       "\n",
       "/* \"?\"-specific style due to the `<a>` HTML tag */\n",
       "\n",
       "#sk-container-id-1 a.estimator_doc_link {\n",
       "  float: right;\n",
       "  font-size: 1rem;\n",
       "  line-height: 1em;\n",
       "  font-family: monospace;\n",
       "  background-color: var(--sklearn-color-background);\n",
       "  border-radius: 1rem;\n",
       "  height: 1rem;\n",
       "  width: 1rem;\n",
       "  text-decoration: none;\n",
       "  /* unfitted */\n",
       "  color: var(--sklearn-color-unfitted-level-1);\n",
       "  border: var(--sklearn-color-unfitted-level-1) 1pt solid;\n",
       "}\n",
       "\n",
       "#sk-container-id-1 a.estimator_doc_link.fitted {\n",
       "  /* fitted */\n",
       "  border: var(--sklearn-color-fitted-level-1) 1pt solid;\n",
       "  color: var(--sklearn-color-fitted-level-1);\n",
       "}\n",
       "\n",
       "/* On hover */\n",
       "#sk-container-id-1 a.estimator_doc_link:hover {\n",
       "  /* unfitted */\n",
       "  background-color: var(--sklearn-color-unfitted-level-3);\n",
       "  color: var(--sklearn-color-background);\n",
       "  text-decoration: none;\n",
       "}\n",
       "\n",
       "#sk-container-id-1 a.estimator_doc_link.fitted:hover {\n",
       "  /* fitted */\n",
       "  background-color: var(--sklearn-color-fitted-level-3);\n",
       "}\n",
       "\n",
       ".estimator-table summary {\n",
       "    padding: .5rem;\n",
       "    font-family: monospace;\n",
       "    cursor: pointer;\n",
       "}\n",
       "\n",
       ".estimator-table details[open] {\n",
       "    padding-left: 0.1rem;\n",
       "    padding-right: 0.1rem;\n",
       "    padding-bottom: 0.3rem;\n",
       "}\n",
       "\n",
       ".estimator-table .parameters-table {\n",
       "    margin-left: auto !important;\n",
       "    margin-right: auto !important;\n",
       "}\n",
       "\n",
       ".estimator-table .parameters-table tr:nth-child(odd) {\n",
       "    background-color: #fff;\n",
       "}\n",
       "\n",
       ".estimator-table .parameters-table tr:nth-child(even) {\n",
       "    background-color: #f6f6f6;\n",
       "}\n",
       "\n",
       ".estimator-table .parameters-table tr:hover {\n",
       "    background-color: #e0e0e0;\n",
       "}\n",
       "\n",
       ".estimator-table table td {\n",
       "    border: 1px solid rgba(106, 105, 104, 0.232);\n",
       "}\n",
       "\n",
       ".user-set td {\n",
       "    color:rgb(255, 94, 0);\n",
       "    text-align: left;\n",
       "}\n",
       "\n",
       ".user-set td.value pre {\n",
       "    color:rgb(255, 94, 0) !important;\n",
       "    background-color: transparent !important;\n",
       "}\n",
       "\n",
       ".default td {\n",
       "    color: black;\n",
       "    text-align: left;\n",
       "}\n",
       "\n",
       ".user-set td i,\n",
       ".default td i {\n",
       "    color: black;\n",
       "}\n",
       "\n",
       ".copy-paste-icon {\n",
       "    background-image: url(data:image/svg+xml;base64,PHN2ZyB4bWxucz0iaHR0cDovL3d3dy53My5vcmcvMjAwMC9zdmciIHZpZXdCb3g9IjAgMCA0NDggNTEyIj48IS0tIUZvbnQgQXdlc29tZSBGcmVlIDYuNy4yIGJ5IEBmb250YXdlc29tZSAtIGh0dHBzOi8vZm9udGF3ZXNvbWUuY29tIExpY2Vuc2UgLSBodHRwczovL2ZvbnRhd2Vzb21lLmNvbS9saWNlbnNlL2ZyZWUgQ29weXJpZ2h0IDIwMjUgRm9udGljb25zLCBJbmMuLS0+PHBhdGggZD0iTTIwOCAwTDMzMi4xIDBjMTIuNyAwIDI0LjkgNS4xIDMzLjkgMTQuMWw2Ny45IDY3LjljOSA5IDE0LjEgMjEuMiAxNC4xIDMzLjlMNDQ4IDMzNmMwIDI2LjUtMjEuNSA0OC00OCA0OGwtMTkyIDBjLTI2LjUgMC00OC0yMS41LTQ4LTQ4bDAtMjg4YzAtMjYuNSAyMS41LTQ4IDQ4LTQ4ek00OCAxMjhsODAgMCAwIDY0LTY0IDAgMCAyNTYgMTkyIDAgMC0zMiA2NCAwIDAgNDhjMCAyNi41LTIxLjUgNDgtNDggNDhMNDggNTEyYy0yNi41IDAtNDgtMjEuNS00OC00OEwwIDE3NmMwLTI2LjUgMjEuNS00OCA0OC00OHoiLz48L3N2Zz4=);\n",
       "    background-repeat: no-repeat;\n",
       "    background-size: 14px 14px;\n",
       "    background-position: 0;\n",
       "    display: inline-block;\n",
       "    width: 14px;\n",
       "    height: 14px;\n",
       "    cursor: pointer;\n",
       "}\n",
       "</style><body><div id=\"sk-container-id-1\" class=\"sk-top-container\"><div class=\"sk-text-repr-fallback\"><pre>KNeighborsClassifier(n_neighbors=15)</pre><b>In a Jupyter environment, please rerun this cell to show the HTML representation or trust the notebook. <br />On GitHub, the HTML representation is unable to render, please try loading this page with nbviewer.org.</b></div><div class=\"sk-container\" hidden><div class=\"sk-item\"><div class=\"sk-estimator fitted sk-toggleable\"><input class=\"sk-toggleable__control sk-hidden--visually\" id=\"sk-estimator-id-1\" type=\"checkbox\" checked><label for=\"sk-estimator-id-1\" class=\"sk-toggleable__label fitted sk-toggleable__label-arrow\"><div><div>KNeighborsClassifier</div></div><div><a class=\"sk-estimator-doc-link fitted\" rel=\"noreferrer\" target=\"_blank\" href=\"https://scikit-learn.org/1.7/modules/generated/sklearn.neighbors.KNeighborsClassifier.html\">?<span>Documentation for KNeighborsClassifier</span></a><span class=\"sk-estimator-doc-link fitted\">i<span>Fitted</span></span></div></label><div class=\"sk-toggleable__content fitted\" data-param-prefix=\"\">\n",
       "        <div class=\"estimator-table\">\n",
       "            <details>\n",
       "                <summary>Parameters</summary>\n",
       "                <table class=\"parameters-table\">\n",
       "                  <tbody>\n",
       "                    \n",
       "        <tr class=\"user-set\">\n",
       "            <td><i class=\"copy-paste-icon\"\n",
       "                 onclick=\"copyToClipboard('n_neighbors',\n",
       "                          this.parentElement.nextElementSibling)\"\n",
       "            ></i></td>\n",
       "            <td class=\"param\">n_neighbors&nbsp;</td>\n",
       "            <td class=\"value\">15</td>\n",
       "        </tr>\n",
       "    \n",
       "\n",
       "        <tr class=\"default\">\n",
       "            <td><i class=\"copy-paste-icon\"\n",
       "                 onclick=\"copyToClipboard('weights',\n",
       "                          this.parentElement.nextElementSibling)\"\n",
       "            ></i></td>\n",
       "            <td class=\"param\">weights&nbsp;</td>\n",
       "            <td class=\"value\">&#x27;uniform&#x27;</td>\n",
       "        </tr>\n",
       "    \n",
       "\n",
       "        <tr class=\"default\">\n",
       "            <td><i class=\"copy-paste-icon\"\n",
       "                 onclick=\"copyToClipboard('algorithm',\n",
       "                          this.parentElement.nextElementSibling)\"\n",
       "            ></i></td>\n",
       "            <td class=\"param\">algorithm&nbsp;</td>\n",
       "            <td class=\"value\">&#x27;auto&#x27;</td>\n",
       "        </tr>\n",
       "    \n",
       "\n",
       "        <tr class=\"default\">\n",
       "            <td><i class=\"copy-paste-icon\"\n",
       "                 onclick=\"copyToClipboard('leaf_size',\n",
       "                          this.parentElement.nextElementSibling)\"\n",
       "            ></i></td>\n",
       "            <td class=\"param\">leaf_size&nbsp;</td>\n",
       "            <td class=\"value\">30</td>\n",
       "        </tr>\n",
       "    \n",
       "\n",
       "        <tr class=\"default\">\n",
       "            <td><i class=\"copy-paste-icon\"\n",
       "                 onclick=\"copyToClipboard('p',\n",
       "                          this.parentElement.nextElementSibling)\"\n",
       "            ></i></td>\n",
       "            <td class=\"param\">p&nbsp;</td>\n",
       "            <td class=\"value\">2</td>\n",
       "        </tr>\n",
       "    \n",
       "\n",
       "        <tr class=\"default\">\n",
       "            <td><i class=\"copy-paste-icon\"\n",
       "                 onclick=\"copyToClipboard('metric',\n",
       "                          this.parentElement.nextElementSibling)\"\n",
       "            ></i></td>\n",
       "            <td class=\"param\">metric&nbsp;</td>\n",
       "            <td class=\"value\">&#x27;minkowski&#x27;</td>\n",
       "        </tr>\n",
       "    \n",
       "\n",
       "        <tr class=\"default\">\n",
       "            <td><i class=\"copy-paste-icon\"\n",
       "                 onclick=\"copyToClipboard('metric_params',\n",
       "                          this.parentElement.nextElementSibling)\"\n",
       "            ></i></td>\n",
       "            <td class=\"param\">metric_params&nbsp;</td>\n",
       "            <td class=\"value\">None</td>\n",
       "        </tr>\n",
       "    \n",
       "\n",
       "        <tr class=\"default\">\n",
       "            <td><i class=\"copy-paste-icon\"\n",
       "                 onclick=\"copyToClipboard('n_jobs',\n",
       "                          this.parentElement.nextElementSibling)\"\n",
       "            ></i></td>\n",
       "            <td class=\"param\">n_jobs&nbsp;</td>\n",
       "            <td class=\"value\">None</td>\n",
       "        </tr>\n",
       "    \n",
       "                  </tbody>\n",
       "                </table>\n",
       "            </details>\n",
       "        </div>\n",
       "    </div></div></div></div></div><script>function copyToClipboard(text, element) {\n",
       "    // Get the parameter prefix from the closest toggleable content\n",
       "    const toggleableContent = element.closest('.sk-toggleable__content');\n",
       "    const paramPrefix = toggleableContent ? toggleableContent.dataset.paramPrefix : '';\n",
       "    const fullParamName = paramPrefix ? `${paramPrefix}${text}` : text;\n",
       "\n",
       "    const originalStyle = element.style;\n",
       "    const computedStyle = window.getComputedStyle(element);\n",
       "    const originalWidth = computedStyle.width;\n",
       "    const originalHTML = element.innerHTML.replace('Copied!', '');\n",
       "\n",
       "    navigator.clipboard.writeText(fullParamName)\n",
       "        .then(() => {\n",
       "            element.style.width = originalWidth;\n",
       "            element.style.color = 'green';\n",
       "            element.innerHTML = \"Copied!\";\n",
       "\n",
       "            setTimeout(() => {\n",
       "                element.innerHTML = originalHTML;\n",
       "                element.style = originalStyle;\n",
       "            }, 2000);\n",
       "        })\n",
       "        .catch(err => {\n",
       "            console.error('Failed to copy:', err);\n",
       "            element.style.color = 'red';\n",
       "            element.innerHTML = \"Failed!\";\n",
       "            setTimeout(() => {\n",
       "                element.innerHTML = originalHTML;\n",
       "                element.style = originalStyle;\n",
       "            }, 2000);\n",
       "        });\n",
       "    return false;\n",
       "}\n",
       "\n",
       "document.querySelectorAll('.fa-regular.fa-copy').forEach(function(element) {\n",
       "    const toggleableContent = element.closest('.sk-toggleable__content');\n",
       "    const paramPrefix = toggleableContent ? toggleableContent.dataset.paramPrefix : '';\n",
       "    const paramName = element.parentElement.nextElementSibling.textContent.trim();\n",
       "    const fullParamName = paramPrefix ? `${paramPrefix}${paramName}` : paramName;\n",
       "\n",
       "    element.setAttribute('title', fullParamName);\n",
       "});\n",
       "</script></body>"
      ],
      "text/plain": [
       "KNeighborsClassifier(n_neighbors=15)"
      ]
     },
     "execution_count": 6,
     "metadata": {},
     "output_type": "execute_result"
    }
   ],
   "source": [
    "knn = KNeighborsClassifier(n_neighbors=15)\n",
    "knn.fit(X,y)"
   ]
  },
  {
   "cell_type": "code",
   "execution_count": 7,
   "id": "d8ae2312",
   "metadata": {},
   "outputs": [],
   "source": [
    "## Nuevos valores no etiquedatos.\n",
    "X_new = np.array([[56.8,17.5],\n",
    "                  [24.4,24.1],\n",
    "                  [50.1,10.9]])"
   ]
  },
  {
   "cell_type": "code",
   "execution_count": 8,
   "id": "17343d1b",
   "metadata": {},
   "outputs": [
    {
     "name": "stdout",
     "output_type": "stream",
     "text": [
      "Predictions : [1 0 0]\n"
     ]
    }
   ],
   "source": [
    "y_pred = knn.predict(X_new)\n",
    "print('Predictions : {}'.format(y_pred))"
   ]
  },
  {
   "cell_type": "markdown",
   "id": "5a74e0d1",
   "metadata": {},
   "source": [
    "De lo anterior tenemos que el modelo predice que la primer observación se da de baja, mientras que para la segunda y tercera predice que no se dan de baja."
   ]
  },
  {
   "cell_type": "markdown",
   "id": "aacbe4d9",
   "metadata": {},
   "source": [
    "#### **Rendimiento del modelo**\n",
    "**Verdaderos Positivos: VP**\n",
    "\n",
    "**Verdaderos Negativos: VN**\n",
    "\n",
    "**Falsos Positivos: FP**\n",
    "\n",
    "**Falsos Negativos: FN**"
   ]
  },
  {
   "cell_type": "markdown",
   "id": "08d5ee7e",
   "metadata": {},
   "source": [
    "$$\\text{Exactitud(Accuracy)}=\\frac{\\text{predicciones correctas}}{\\text{observaciones totales}}=\\frac{\\text{VP+VN}}{\\text{VP+VN+FP+FN}}$$"
   ]
  },
  {
   "cell_type": "markdown",
   "id": "78d956ce",
   "metadata": {},
   "source": [
    "$$\\text{Precisión}=\\frac{\\text{predicciones clasificadas correctamente como verdaderas}}{\\text{todas las prediciones clasificadas como verdaderas}}=\\frac{\\text{VP}}{\\text{VP+FP}}$$"
   ]
  },
  {
   "cell_type": "markdown",
   "id": "db4ed2ee",
   "metadata": {},
   "source": [
    "$$\\text{Recuperación(Recall o TPR)}=\\frac{\\text{predicciones clasificadas correctamente como verdaderas}}{\\text{todas las observaciones reales verdaderas}}=\\frac{\\text{VP}}{\\text{VP+FN}}$$"
   ]
  },
  {
   "cell_type": "markdown",
   "id": "851a95b6",
   "metadata": {},
   "source": [
    "$$\\text{FPR}=\\frac{\\text{predicciones clasificadas incorrectamente como falsas}}{\\text{todas las observaciones reales falsas}}=\\frac{\\text{FP}}{\\text{FP+VN}}$$"
   ]
  },
  {
   "cell_type": "markdown",
   "id": "fa909a6b",
   "metadata": {},
   "source": [
    "##### **división de los datos prueba/test**"
   ]
  },
  {
   "cell_type": "code",
   "execution_count": 9,
   "id": "abc5b884",
   "metadata": {},
   "outputs": [],
   "source": [
    "from sklearn.model_selection import train_test_split"
   ]
  },
  {
   "cell_type": "code",
   "execution_count": 19,
   "id": "dc8faf97",
   "metadata": {},
   "outputs": [
    {
     "name": "stdout",
     "output_type": "stream",
     "text": [
      "0.875\n"
     ]
    }
   ],
   "source": [
    "X_train, X_test, y_train, y_test =train_test_split(X,y,test_size=0.3,random_state=23,stratify=y)\n",
    "\n",
    "knn = KNeighborsClassifier(n_neighbors=6)\n",
    "knn.fit(X_train,y_train)\n",
    "print(knn.score(X_test,y_test))"
   ]
  },
  {
   "cell_type": "code",
   "execution_count": 20,
   "id": "3ce82796",
   "metadata": {},
   "outputs": [],
   "source": [
    "train_accuracies = {}\n",
    "test_accuracies = {}\n",
    "neighbors = np.arange(1,26)\n",
    "\n",
    "for neighbor in neighbors:\n",
    "    knn  = KNeighborsClassifier(n_neighbors=neighbor)\n",
    "    knn.fit(X_train,y_train)\n",
    "    train_accuracies[neighbor] = knn.score(X_train,y_train)\n",
    "    test_accuracies[neighbor] = knn.score(X_test,y_test)\n"
   ]
  },
  {
   "cell_type": "markdown",
   "id": "4e133678",
   "metadata": {},
   "source": [
    "##### Representación gráfica de los resultados"
   ]
  },
  {
   "cell_type": "code",
   "execution_count": 74,
   "id": "cc86a9c1",
   "metadata": {},
   "outputs": [],
   "source": [
    "import matplotlib.pyplot as plt"
   ]
  },
  {
   "cell_type": "code",
   "execution_count": 22,
   "id": "6af9b813",
   "metadata": {},
   "outputs": [
    {
     "data": {
      "image/png": "[encoded data removed]",
      "text/plain": [
       "<Figure size 800x600 with 1 Axes>"
      ]
     },
     "metadata": {},
     "output_type": "display_data"
    }
   ],
   "source": [
    "plt.figure(figsize=(8,6))\n",
    "plt.title(\"KNN: Variando el número de vecinos\")\n",
    "plt.plot(neighbors,train_accuracies.values(),label=\"Training Accuracy\")\n",
    "plt.plot(neighbors,test_accuracies.values(),label=\"Test Accuracy\")\n",
    "plt.legend()\n",
    "plt.xlabel(\"Número de Vecinos\")\n",
    "plt.ylabel(\"Accuracy\")\n",
    "plt.show()"
   ]
  },
  {
   "cell_type": "markdown",
   "id": "19422632",
   "metadata": {},
   "source": [
    "## Introducción a la regresión"
   ]
  },
  {
   "cell_type": "code",
   "execution_count": 102,
   "id": "b1d02ba2",
   "metadata": {},
   "outputs": [
    {
     "name": "stdout",
     "output_type": "stream",
     "text": [
      "   pregnancies  glucose  diastolic  triceps  ...   bmi    dpf  age  diabetes\n",
      "0            6      148         72       35  ...  33.6  0.627   50         1\n",
      "1            1       85         66       29  ...  26.6  0.351   31         0\n",
      "2            8      183         64        0  ...  23.3  0.672   32         1\n",
      "3            1       89         66       23  ...  28.1  0.167   21         0\n",
      "4            0      137         40       35  ...  43.1  2.288   33         1\n",
      "\n",
      "[5 rows x 9 columns]\n"
     ]
    }
   ],
   "source": [
    "diabetes_df = pd.read_csv(\"./diabetes_clean.csv\")\n",
    "print(diabetes_df.head())"
   ]
  },
  {
   "cell_type": "markdown",
   "id": "145a4e88",
   "metadata": {},
   "source": [
    "#### Creación de matrices de características y objetivos"
   ]
  },
  {
   "cell_type": "code",
   "execution_count": 9,
   "id": "06e48447",
   "metadata": {},
   "outputs": [],
   "source": [
    "X = diabetes_df.drop(\"glucose\",axis=1).values\n",
    "y = diabetes_df[\"glucose\"].values"
   ]
  },
  {
   "cell_type": "markdown",
   "id": "170f1bd8",
   "metadata": {},
   "source": [
    "##### Predicciones a partir de una sola característica (el índice de masa corporal)"
   ]
  },
  {
   "cell_type": "code",
   "execution_count": 45,
   "id": "3ad739b3",
   "metadata": {},
   "outputs": [
    {
     "name": "stdout",
     "output_type": "stream",
     "text": [
      "(768,) (768,)\n"
     ]
    }
   ],
   "source": [
    "X_bmi = X[:,4]\n",
    "print(X_bmi.shape,y.shape)"
   ]
  },
  {
   "cell_type": "markdown",
   "id": "0b8863f9",
   "metadata": {},
   "source": [
    "Conversión de X a una matriz bidimencional para scikit-learn las acepte."
   ]
  },
  {
   "cell_type": "code",
   "execution_count": 46,
   "id": "99ea6857",
   "metadata": {},
   "outputs": [],
   "source": [
    "X_bmi = X_bmi.reshape(-1,1)"
   ]
  },
  {
   "cell_type": "markdown",
   "id": "775c9b38",
   "metadata": {},
   "source": [
    "##### Representación gráfica de la glucosa frente al índice de masa corporal"
   ]
  },
  {
   "cell_type": "code",
   "execution_count": 51,
   "id": "18b55849",
   "metadata": {},
   "outputs": [
    {
     "data": {
      "image/png": "[encoded data removed]",
      "text/plain": [
       "<Figure size 640x480 with 1 Axes>"
      ]
     },
     "metadata": {},
     "output_type": "display_data"
    }
   ],
   "source": [
    "plt.scatter(X_bmi,y)\n",
    "plt.xlabel(\"Índice de Maca Corporal\")\n",
    "plt.ylabel(\"Glucosa en la sangre ( mg/dl)\")\n",
    "plt.show()"
   ]
  },
  {
   "cell_type": "markdown",
   "id": "ba3c0848",
   "metadata": {},
   "source": [
    "##### Ajuste de un modelo de regresión"
   ]
  },
  {
   "cell_type": "code",
   "execution_count": 4,
   "id": "7f2275b6",
   "metadata": {},
   "outputs": [],
   "source": [
    "from sklearn.linear_model import LinearRegression"
   ]
  },
  {
   "cell_type": "code",
   "execution_count": 49,
   "id": "1f05f8d6",
   "metadata": {},
   "outputs": [],
   "source": [
    "reg = LinearRegression()\n",
    "reg.fit(X_bmi,y)\n",
    "predicciones = reg.predict(X_bmi)\n"
   ]
  },
  {
   "cell_type": "code",
   "execution_count": 52,
   "id": "30dd2774",
   "metadata": {},
   "outputs": [
    {
     "data": {
      "image/png": "[encoded data removed]",
      "text/plain": [
       "<Figure size 640x480 with 1 Axes>"
      ]
     },
     "metadata": {},
     "output_type": "display_data"
    }
   ],
   "source": [
    "plt.scatter(X_bmi,y)\n",
    "plt.plot(X_bmi,predicciones)\n",
    "plt.xlabel(\"Índice de masa corporal\")\n",
    "plt.ylabel(\"Glucosa en la sangre (mg/dl)\")\n",
    "plt.show()"
   ]
  },
  {
   "cell_type": "markdown",
   "id": "c52a2df4",
   "metadata": {},
   "source": [
    "### Ejercicio (Sales)"
   ]
  },
  {
   "cell_type": "code",
   "execution_count": 26,
   "id": "ade032ef",
   "metadata": {},
   "outputs": [],
   "source": [
    "sales_df = pd.read_csv(\"advertising_and_sales_clean.csv\")"
   ]
  },
  {
   "cell_type": "code",
   "execution_count": 54,
   "id": "aa599ac9",
   "metadata": {},
   "outputs": [
    {
     "name": "stdout",
     "output_type": "stream",
     "text": [
      "(4546, 1) (4546,)\n"
     ]
    }
   ],
   "source": [
    "X = sales_df[\"radio\"].values\n",
    "y = sales_df[\"sales\"].values\n",
    "X = X.reshape(-1,1)\n",
    "print(X.shape,y.shape)"
   ]
  },
  {
   "cell_type": "code",
   "execution_count": 56,
   "id": "f6cc687e",
   "metadata": {},
   "outputs": [
    {
     "name": "stdout",
     "output_type": "stream",
     "text": [
      "[ 95491.17119147 117829.51038393 173423.38071499 291603.11444202\n",
      " 111137.28167129]\n"
     ]
    }
   ],
   "source": [
    "# Create the model\n",
    "reg = LinearRegression()\n",
    "\n",
    "# Fit the model to the data\n",
    "reg.fit(X,y)\n",
    "\n",
    "# Make predictions\n",
    "predictions = reg.predict(X)\n",
    "\n",
    "print(predictions[:5])"
   ]
  },
  {
   "cell_type": "code",
   "execution_count": 57,
   "id": "ce947f5e",
   "metadata": {},
   "outputs": [
    {
     "data": {
      "image/png": "[encoded data removed]",
      "text/plain": [
       "<Figure size 640x480 with 1 Axes>"
      ]
     },
     "metadata": {},
     "output_type": "display_data"
    }
   ],
   "source": [
    "# Create scatter plot\n",
    "plt.scatter(X, y, color=\"blue\")\n",
    "\n",
    "# Create line plot\n",
    "plt.plot(X, predictions, color=\"red\")\n",
    "plt.xlabel(\"Radio Expenditure ($)\")\n",
    "plt.ylabel(\"Sales ($)\")\n",
    "\n",
    "# Display the plot\n",
    "plt.show()"
   ]
  },
  {
   "cell_type": "markdown",
   "id": "e3c733e5",
   "metadata": {},
   "source": [
    "## Regresión Lineal multivariante"
   ]
  },
  {
   "cell_type": "code",
   "execution_count": 60,
   "id": "0f9f5e73",
   "metadata": {},
   "outputs": [
    {
     "data": {
      "text/plain": [
       "array([[ 6.   ],\n",
       "       [72.   ],\n",
       "       [35.   ],\n",
       "       ...,\n",
       "       [ 0.315],\n",
       "       [23.   ],\n",
       "       [ 0.   ]])"
      ]
     },
     "execution_count": 60,
     "metadata": {},
     "output_type": "execute_result"
    }
   ],
   "source": [
    "X = diabetes_df.drop(\"glucose\",axis=1).values\n",
    "y = diabetes_df[\"glucose\"].values\n",
    "X.reshape(-1,1)"
   ]
  },
  {
   "cell_type": "code",
   "execution_count": 64,
   "id": "ea37e9ca",
   "metadata": {},
   "outputs": [],
   "source": [
    "X_train, X_test, y_train, y_test = train_test_split(X,y,test_size=0.3,random_state=42)"
   ]
  },
  {
   "cell_type": "code",
   "execution_count": 65,
   "id": "bcb8ebbe",
   "metadata": {},
   "outputs": [],
   "source": [
    "reg_all = LinearRegression()\n",
    "reg_all.fit(X_train,y_train)\n",
    "y_pred = reg_all.predict(X_test)"
   ]
  },
  {
   "cell_type": "markdown",
   "id": "89d52f55",
   "metadata": {},
   "source": [
    "La métrica por defecto de la regresión lineal es **R-cuadrado**\n",
    "- $R^2$: cuantifica la varianza de los valores objetivo explicada por las características.\n",
    "\n",
    "Los valores pueden ir de 0 a 1, donde 1 significa que las características explican completamente la varianza del objetivo.\n",
    "\n",
    "$$R^2 = 1- \\frac{\\sum_{i=1}^n (Y_i-\\hat{Y}_i)^2}{\\sum_{i=1}^n (Y_i-\\bar{Y})^2}$$\n",
    "\n",
    "donde: \n",
    "\n",
    "$Y_i$ es el i-ésimo valor observado\n",
    "\n",
    "$\\hat{Y}_i$ es el i-ésimo valor predicho\n",
    "\n",
    "$\\bar{Y}$ es la media de los valores observados\n"
   ]
  },
  {
   "cell_type": "markdown",
   "id": "69a23968",
   "metadata": {},
   "source": [
    "##### R-cuadrado en scikit-learn"
   ]
  },
  {
   "cell_type": "code",
   "execution_count": 66,
   "id": "0ca91276",
   "metadata": {},
   "outputs": [
    {
     "data": {
      "text/plain": [
       "0.28280468810375115"
      ]
     },
     "execution_count": 66,
     "metadata": {},
     "output_type": "execute_result"
    }
   ],
   "source": [
    "reg_all.score(X_test,y_test)"
   ]
  },
  {
   "cell_type": "markdown",
   "id": "8a572d94",
   "metadata": {},
   "source": [
    "Otra forma de evaluar el rendimiento de un modelo de regresión es tomar la media de la suma residual de cuadrados, conocido como **error cuadrático medio (MSE)**\n",
    "\n",
    "$$MSE = \\frac{1}{n}\\sum_{i=0}^n (y_i-\\hat{y}_i)^2$$\n",
    "\n",
    "Tomando la raíz cuadrada el MSE tenemos las mismas unidades que la variable objetivo.\n",
    "\n",
    "$$RMSE = \\sqrt{MSE}$$"
   ]
  },
  {
   "cell_type": "markdown",
   "id": "f3bfdaa7",
   "metadata": {},
   "source": [
    "##### RMSE en scikit-learn"
   ]
  },
  {
   "cell_type": "code",
   "execution_count": 67,
   "id": "941a00e0",
   "metadata": {},
   "outputs": [],
   "source": [
    "from sklearn.metrics import root_mean_squared_error"
   ]
  },
  {
   "cell_type": "code",
   "execution_count": 68,
   "id": "af1cfa24",
   "metadata": {},
   "outputs": [
    {
     "data": {
      "text/plain": [
       "26.341459582232265"
      ]
     },
     "execution_count": 68,
     "metadata": {},
     "output_type": "execute_result"
    }
   ],
   "source": [
    "root_mean_squared_error(y_test,y_pred)"
   ]
  },
  {
   "cell_type": "markdown",
   "id": "58083d01",
   "metadata": {},
   "source": [
    "### Ejercicio"
   ]
  },
  {
   "cell_type": "code",
   "execution_count": 73,
   "id": "6d3994b0",
   "metadata": {},
   "outputs": [
    {
     "name": "stdout",
     "output_type": "stream",
     "text": [
      "Predictions: [53176.66154234 70996.19873235], Actual Values: [55261.28 67574.9 ]\n"
     ]
    }
   ],
   "source": [
    "# Create X and y arrays\n",
    "X = sales_df.drop([\"sales\",\"influencer\"], axis=1).values\n",
    "y = sales_df[\"sales\"].values\n",
    "\n",
    "X_train, X_test, y_train, y_test = train_test_split(X, y, test_size=0.3, random_state=42)\n",
    "\n",
    "# Instantiate the model\n",
    "reg = LinearRegression()\n",
    "\n",
    "# Fit the model to the data\n",
    "reg.fit(X_train,y_train)\n",
    "\n",
    "# Make predictions\n",
    "y_pred = reg.predict(X_test)\n",
    "print(\"Predictions: {}, Actual Values: {}\".format(y_pred[:2], y_test[:2]))"
   ]
  },
  {
   "cell_type": "code",
   "execution_count": 74,
   "id": "7b67f32c",
   "metadata": {},
   "outputs": [
    {
     "name": "stdout",
     "output_type": "stream",
     "text": [
      "R^2: 0.9990152104759368\n",
      "RMSE: 2944.433199600102\n"
     ]
    }
   ],
   "source": [
    "# Compute R-squared\n",
    "r_squared = reg.score(X_test, y_test)\n",
    "\n",
    "# Compute RMSE\n",
    "rmse = root_mean_squared_error(y_test, y_pred)\n",
    "\n",
    "# Print the metrics\n",
    "print(\"R^2: {}\".format(r_squared))\n",
    "print(\"RMSE: {}\".format(rmse))"
   ]
  },
  {
   "cell_type": "markdown",
   "id": "a3ab2e9d",
   "metadata": {},
   "source": [
    "### Validación cruzada"
   ]
  },
  {
   "cell_type": "code",
   "execution_count": 19,
   "id": "888a4b31",
   "metadata": {},
   "outputs": [],
   "source": [
    "from sklearn.model_selection import cross_val_score, KFold\n",
    "# KFold nos permite crear una semilla y barajar nuestros datos"
   ]
  },
  {
   "cell_type": "code",
   "execution_count": 20,
   "id": "b6948ea8",
   "metadata": {},
   "outputs": [],
   "source": [
    "kf = KFold(n_splits=6,shuffle=True,random_state=42)\n",
    "# n_splits: número de pliegues para la validación cruzada\n",
    "# shuffle: True: para barajar los datos antes de dividirlo en pliegues.\n",
    "# random_state: semilla para garantizar que los datos se dividirán de \n",
    "#la misma manera si se repite el proceso."
   ]
  },
  {
   "cell_type": "code",
   "execution_count": 21,
   "id": "e7128d6d",
   "metadata": {},
   "outputs": [],
   "source": [
    "reg = LinearRegression()\n",
    "cv_results = cross_val_score(reg,X,y,cv=kf)\n",
    "# la puntuación obtenida es R^2, que es la que tiene por defecto la regresión lineal\n"
   ]
  },
  {
   "cell_type": "code",
   "execution_count": 22,
   "id": "28655ea3",
   "metadata": {},
   "outputs": [
    {
     "name": "stdout",
     "output_type": "stream",
     "text": [
      "[ 0.07572563  0.06636619  0.07239386  0.05051558 -0.04002086  0.03807372]\n"
     ]
    }
   ],
   "source": [
    "print(cv_results)"
   ]
  },
  {
   "cell_type": "markdown",
   "id": "7c82415e",
   "metadata": {},
   "source": [
    "##### Ejercicio"
   ]
  },
  {
   "cell_type": "code",
   "execution_count": 43,
   "id": "553e10c1",
   "metadata": {},
   "outputs": [
    {
     "data": {
      "text/plain": [
       "4546"
      ]
     },
     "execution_count": 43,
     "metadata": {},
     "output_type": "execute_result"
    }
   ],
   "source": [
    "len(X_sales)"
   ]
  },
  {
   "cell_type": "code",
   "execution_count": 54,
   "id": "c4899304",
   "metadata": {},
   "outputs": [
    {
     "name": "stdout",
     "output_type": "stream",
     "text": [
      "(4546, 3)\n"
     ]
    }
   ],
   "source": [
    "X_sales = sales_df.drop([\"sales\",\"influencer\"], axis=1)\n",
    "y_sales = sales_df[\"sales\"].values\n",
    "print(X_sales.shape)"
   ]
  },
  {
   "cell_type": "code",
   "execution_count": 56,
   "id": "62ae5a15",
   "metadata": {},
   "outputs": [
    {
     "name": "stdout",
     "output_type": "stream",
     "text": [
      "[0.99894062 0.99909245 0.9990103  0.99896344 0.99889153 0.99903953]\n"
     ]
    }
   ],
   "source": [
    "# Create a KFold object\n",
    "kf = KFold(n_splits=6, shuffle=True, random_state=5)\n",
    "\n",
    "reg = LinearRegression()\n",
    "\n",
    "# Compute 6-fold cross-validation scores\n",
    "cv_scores = cross_val_score(reg, X_sales, y, cv=kf)\n",
    "\n",
    "# Print scores\n",
    "print(cv_scores)"
   ]
  },
  {
   "cell_type": "code",
   "execution_count": 58,
   "id": "c30a5d27",
   "metadata": {},
   "outputs": [
    {
     "name": "stdout",
     "output_type": "stream",
     "text": [
      "0.9989896443678249\n",
      "6.608118371529651e-05\n",
      "[0.99889767 0.99908583]\n"
     ]
    }
   ],
   "source": [
    "# Print the mean\n",
    "print(np.mean(cv_scores))\n",
    "\n",
    "# Print the standard deviation\n",
    "print(np.std(cv_scores))\n",
    "\n",
    "# Print the 95% confidence interval\n",
    "print(np.quantile(cv_scores, [0.025, 0.975]))"
   ]
  },
  {
   "cell_type": "markdown",
   "id": "3f33af5b",
   "metadata": {},
   "source": [
    "### Regresión regularizada"
   ]
  },
  {
   "cell_type": "markdown",
   "id": "043c3223",
   "metadata": {},
   "source": [
    "#### Regresión Ridge\n",
    "\n",
    "supongamos que nuestra función de regesión es la siguiente:\n",
    "\n",
    "$$a_1x_1+a_2x_2+...+a_nx_n+b$$\n",
    "\n",
    "Con la regresión Ridge, a la función de pérdica MCO (Mínimos Cuadrados Ordinarios) se le agrega un término extra de penalización a la función de perdida para los coeficientes $a_i$, quedando la nueva función de pérdida como:\n",
    "\n",
    "$$\\text{función de perdida MCO} + \\alpha * \\sum_{i=1}^n a_i^2$$"
   ]
  },
  {
   "cell_type": "code",
   "execution_count": 64,
   "id": "31cdbe48",
   "metadata": {},
   "outputs": [],
   "source": [
    "from sklearn.linear_model import Ridge\n",
    "from sklearn.model_selection import train_test_split"
   ]
  },
  {
   "cell_type": "code",
   "execution_count": 77,
   "id": "b8979b78",
   "metadata": {},
   "outputs": [
    {
     "data": {
      "text/html": [
       "<div>\n",
       "<style scoped>\n",
       "    .dataframe tbody tr th:only-of-type {\n",
       "        vertical-align: middle;\n",
       "    }\n",
       "\n",
       "    .dataframe tbody tr th {\n",
       "        vertical-align: top;\n",
       "    }\n",
       "\n",
       "    .dataframe thead th {\n",
       "        text-align: right;\n",
       "    }\n",
       "</style>\n",
       "<table border=\"1\" class=\"dataframe\">\n",
       "  <thead>\n",
       "    <tr style=\"text-align: right;\">\n",
       "      <th></th>\n",
       "      <th>tv</th>\n",
       "      <th>radio</th>\n",
       "      <th>social_media</th>\n",
       "      <th>influencer</th>\n",
       "      <th>sales</th>\n",
       "    </tr>\n",
       "  </thead>\n",
       "  <tbody>\n",
       "    <tr>\n",
       "      <th>0</th>\n",
       "      <td>16000.0</td>\n",
       "      <td>6566.23</td>\n",
       "      <td>2907.98</td>\n",
       "      <td>Mega</td>\n",
       "      <td>54732.76</td>\n",
       "    </tr>\n",
       "    <tr>\n",
       "      <th>1</th>\n",
       "      <td>13000.0</td>\n",
       "      <td>9237.76</td>\n",
       "      <td>2409.57</td>\n",
       "      <td>Mega</td>\n",
       "      <td>46677.90</td>\n",
       "    </tr>\n",
       "    <tr>\n",
       "      <th>2</th>\n",
       "      <td>41000.0</td>\n",
       "      <td>15886.45</td>\n",
       "      <td>2913.41</td>\n",
       "      <td>Mega</td>\n",
       "      <td>150177.83</td>\n",
       "    </tr>\n",
       "    <tr>\n",
       "      <th>3</th>\n",
       "      <td>83000.0</td>\n",
       "      <td>30020.03</td>\n",
       "      <td>6922.30</td>\n",
       "      <td>Mega</td>\n",
       "      <td>298246.34</td>\n",
       "    </tr>\n",
       "    <tr>\n",
       "      <th>4</th>\n",
       "      <td>15000.0</td>\n",
       "      <td>8437.41</td>\n",
       "      <td>1406.00</td>\n",
       "      <td>Micro</td>\n",
       "      <td>56594.18</td>\n",
       "    </tr>\n",
       "  </tbody>\n",
       "</table>\n",
       "</div>"
      ],
      "text/plain": [
       "        tv     radio  social_media influencer      sales\n",
       "0  16000.0   6566.23       2907.98       Mega   54732.76\n",
       "1  13000.0   9237.76       2409.57       Mega   46677.90\n",
       "2  41000.0  15886.45       2913.41       Mega  150177.83\n",
       "3  83000.0  30020.03       6922.30       Mega  298246.34\n",
       "4  15000.0   8437.41       1406.00      Micro   56594.18"
      ]
     },
     "execution_count": 77,
     "metadata": {},
     "output_type": "execute_result"
    }
   ],
   "source": [
    "sales_df.head()"
   ]
  },
  {
   "cell_type": "code",
   "execution_count": 94,
   "id": "f6927e5c",
   "metadata": {},
   "outputs": [],
   "source": [
    "X_ridge = sales_df[['tv','radio','social_media']]\n",
    "y_ridge=sales_df['sales']"
   ]
  },
  {
   "cell_type": "code",
   "execution_count": 95,
   "id": "e8770b6d",
   "metadata": {},
   "outputs": [],
   "source": [
    "X_train,X_test,y_train,y_test = train_test_split(X_ridge,y_ridge,test_size=0.3,random_state=42)"
   ]
  },
  {
   "cell_type": "code",
   "execution_count": null,
   "id": "ee2a939e",
   "metadata": {},
   "outputs": [],
   "source": []
  },
  {
   "cell_type": "code",
   "execution_count": 96,
   "id": "4cf66f15",
   "metadata": {},
   "outputs": [
    {
     "name": "stdout",
     "output_type": "stream",
     "text": [
      "[0.9990152104759369, 0.9990152104759373, 0.9990152104759419, 0.9990152104759871, 0.9990152104764387]\n"
     ]
    }
   ],
   "source": [
    "scores = []\n",
    "for alpha in [0.1,1.0,10.0,100.0,1000.0]:\n",
    "    ridge = Ridge(alpha=alpha)\n",
    "    ridge.fit(X_train,y_train)\n",
    "    y_pred = ridge.predict(X_test)\n",
    "    scores.append(ridge.score(X_test,y_test))\n",
    "print(scores)\n"
   ]
  },
  {
   "cell_type": "markdown",
   "id": "ef5c5469",
   "metadata": {},
   "source": [
    "#### Regresión Lasso\n",
    "\n",
    "supongamos que nuestra función de regesión es la siguiente:\n",
    "\n",
    "$$a_1x_1+a_2x_2+...+a_nx_n+b$$\n",
    "\n",
    "Con la regresión Lasso, a la función de pérdica MCO (Mínimos Cuadrados Ordinarios) se le agrega un término extra de penalización a la función de perdida para los coeficientes $a_i$, quedando la nueva función de pérdida como:\n",
    "\n",
    "$$\\text{función de perdida MCO} + \\alpha * \\sum_{i=1}^n |a_i|$$\n",
    "\n",
    "- Ayuda a seleccionar características importantes de un conjunto de datos.\n",
    "- Reduce a 0 los coeficientes de las características menos importantes."
   ]
  },
  {
   "cell_type": "code",
   "execution_count": 100,
   "id": "98cb66f2",
   "metadata": {},
   "outputs": [],
   "source": [
    "from sklearn.linear_model import Lasso"
   ]
  },
  {
   "cell_type": "code",
   "execution_count": 101,
   "id": "6c459ec4",
   "metadata": {},
   "outputs": [
    {
     "name": "stdout",
     "output_type": "stream",
     "text": [
      "[0.9990152104790647, 0.9990152105072273, 0.9990152107889495, 0.9990152136067459, 0.9990152417537391]\n"
     ]
    }
   ],
   "source": [
    "scores = []\n",
    "for alpha in [0.1,1.0,10.0,100.0,1000.0]:\n",
    "    lasso = Lasso(alpha=alpha)\n",
    "    lasso.fit(X_train,y_train)\n",
    "    y_pred = lasso.predict(X_test)\n",
    "    scores.append(lasso.score(X_test,y_test))\n",
    "print(scores)"
   ]
  },
  {
   "cell_type": "markdown",
   "id": "2ed3579c",
   "metadata": {},
   "source": [
    "##### Lasso para la selección de características"
   ]
  },
  {
   "cell_type": "code",
   "execution_count": 103,
   "id": "2e25c530",
   "metadata": {},
   "outputs": [],
   "source": [
    "X_dia  = diabetes_df.drop(\"glucose\",axis=1).values\n",
    "y_dia = diabetes_df['glucose'].values\n",
    "names = diabetes_df.drop(\"glucose\",axis=1).columns\n",
    "lasso = Lasso(alpha=0.1)\n",
    "lasso_coef = lasso.fit(X_dia,y_dia).coef_\n"
   ]
  },
  {
   "cell_type": "code",
   "execution_count": 105,
   "id": "63003c1a",
   "metadata": {},
   "outputs": [
    {
     "data": {
      "image/png": "[encoded data removed]",
      "text/plain": [
       "<Figure size 640x480 with 1 Axes>"
      ]
     },
     "metadata": {},
     "output_type": "display_data"
    }
   ],
   "source": [
    "plt.bar(names,lasso_coef)\n",
    "plt.xticks(rotation=45)\n",
    "plt.show()"
   ]
  },
  {
   "cell_type": "markdown",
   "id": "b5fc7eac",
   "metadata": {},
   "source": [
    "## Afina tu modelo"
   ]
  },
  {
   "cell_type": "markdown",
   "id": "22b83a94",
   "metadata": {},
   "source": [
    "### Puntuación F1\n",
    "\n",
    "$$F1=2*\\frac{\\text{precision*recall}}{\\text{precision+recall}}$$"
   ]
  },
  {
   "cell_type": "markdown",
   "id": "8b8d1409",
   "metadata": {},
   "source": [
    "##### Matriz de confusión en scikit-learn"
   ]
  },
  {
   "cell_type": "code",
   "execution_count": 106,
   "id": "69b9b61a",
   "metadata": {},
   "outputs": [],
   "source": [
    "from sklearn.metrics import classification_report, confusion_matrix"
   ]
  },
  {
   "cell_type": "code",
   "execution_count": 109,
   "id": "f2388d03",
   "metadata": {},
   "outputs": [],
   "source": [
    "X_c = churn_df[['total_day_charge','total_eve_charge']].values\n",
    "y_c = churn_df['churn'].values"
   ]
  },
  {
   "cell_type": "code",
   "execution_count": 110,
   "id": "4c81abd1",
   "metadata": {},
   "outputs": [],
   "source": [
    "knn = KNeighborsClassifier(n_neighbors=7)\n",
    "X_train, X_test, y_train,y_test = train_test_split(X_c,y_c,test_size=0.4,random_state=42)\n",
    "\n",
    "knn.fit(X_train,y_train)\n",
    "y_pred = knn.predict(X_test)"
   ]
  },
  {
   "cell_type": "code",
   "execution_count": 111,
   "id": "eab5167c",
   "metadata": {},
   "outputs": [
    {
     "name": "stdout",
     "output_type": "stream",
     "text": [
      "[[1111   27]\n",
      " [ 142   54]]\n"
     ]
    }
   ],
   "source": [
    "print(confusion_matrix(y_test,y_pred))"
   ]
  },
  {
   "cell_type": "code",
   "execution_count": 112,
   "id": "8bcb6baa",
   "metadata": {},
   "outputs": [
    {
     "name": "stdout",
     "output_type": "stream",
     "text": [
      "              precision    recall  f1-score   support\n",
      "\n",
      "           0       0.89      0.98      0.93      1138\n",
      "           1       0.67      0.28      0.39       196\n",
      "\n",
      "    accuracy                           0.87      1334\n",
      "   macro avg       0.78      0.63      0.66      1334\n",
      "weighted avg       0.85      0.87      0.85      1334\n",
      "\n"
     ]
    }
   ],
   "source": [
    "print(classification_report(y_test,y_pred))"
   ]
  },
  {
   "cell_type": "markdown",
   "id": "a1cbf39a",
   "metadata": {},
   "source": [
    "### Regresión logística y curva ROC"
   ]
  },
  {
   "cell_type": "markdown",
   "id": "82307277",
   "metadata": {},
   "source": [
    "- La regresión logistica se utiliza para problemas de clasificación\n",
    "- Produce probabilidades\n",
    "- Si la probabilidad, p>0.5, los datos se etiquetan con 1.\n",
    "- Si la probabilidad, p<0.5, los datos se etiquetan con 0."
   ]
  },
  {
   "cell_type": "code",
   "execution_count": 113,
   "id": "bed3f015",
   "metadata": {},
   "outputs": [],
   "source": [
    "from sklearn.linear_model import LogisticRegression"
   ]
  },
  {
   "cell_type": "code",
   "execution_count": null,
   "id": "b35bfdc2",
   "metadata": {},
   "outputs": [],
   "source": []
  },
  {
   "cell_type": "code",
   "execution_count": 115,
   "id": "36ed7a38",
   "metadata": {},
   "outputs": [],
   "source": [
    "logreg = LogisticRegression()\n",
    "X_train, X_test,y_train, y_test = train_test_split(X_c,y_c,test_size=0.3,random_state=42)\n",
    "logreg.fit(X_train,y_train)\n",
    "y_pred = logreg.predict(X_test)"
   ]
  },
  {
   "cell_type": "markdown",
   "id": "daff172d",
   "metadata": {},
   "source": [
    "##### predecir probabilidades"
   ]
  },
  {
   "cell_type": "code",
   "execution_count": null,
   "id": "1a7ca69a",
   "metadata": {},
   "outputs": [],
   "source": [
    "y_pred_probs = logreg.predict_proba(X_test)[:,1]\n"
   ]
  },
  {
   "cell_type": "markdown",
   "id": "d0af5f8d",
   "metadata": {},
   "source": [
    "#### Curva ROC\n",
    "\n",
    "Ayuda a ver cómo afectan los distintos umbrales a las tasas de verdaderos positivos y falsos positivos.\n",
    "\n",
    "Cuando el umbral es igual a 0, el modelo predice 1 para todas las observaciones, lo que significa que predecirá correctamente todas los valores positvos y de forma incorrecta todos los valoes negativos.\n",
    "\n",
    "Si el umbral es 0, el modelo predice 0 para toda slas observaciones.\n"
   ]
  },
  {
   "cell_type": "code",
   "execution_count": 117,
   "id": "f887b663",
   "metadata": {},
   "outputs": [],
   "source": [
    "from sklearn.metrics import roc_curve\n",
    "\n",
    "fpr,tpr,thresholds = roc_curve(y_test,y_pred_probs)"
   ]
  },
  {
   "cell_type": "code",
   "execution_count": 118,
   "id": "8e81daec",
   "metadata": {},
   "outputs": [
    {
     "data": {
      "image/png": "[encoded data removed]",
      "text/plain": [
       "<Figure size 640x480 with 1 Axes>"
      ]
     },
     "metadata": {},
     "output_type": "display_data"
    }
   ],
   "source": [
    "plt.plot([0,1],[0,1],'k--')\n",
    "plt.plot(fpr,tpr)\n",
    "plt.xlabel('Tasa de Falsos Positivos')\n",
    "plt.ylabel('Tasa de Verdaderos Positivos')\n",
    "plt.title('Curva ROC para Regresión Logística')\n",
    "plt.show()"
   ]
  },
  {
   "cell_type": "markdown",
   "id": "f92f50dc",
   "metadata": {},
   "source": [
    "#### ROC AUC (área bajo la curva)\n",
    "\n",
    "Cuántifica el rendimiento del modelo a partir de la curva ROC calculando el área bajo la curva."
   ]
  },
  {
   "cell_type": "code",
   "execution_count": 119,
   "id": "6c023046",
   "metadata": {},
   "outputs": [],
   "source": [
    "from sklearn.metrics import roc_auc_score"
   ]
  },
  {
   "cell_type": "code",
   "execution_count": 120,
   "id": "971f0261",
   "metadata": {},
   "outputs": [
    {
     "name": "stdout",
     "output_type": "stream",
     "text": [
      "0.6870364174914934\n"
     ]
    }
   ],
   "source": [
    "print(roc_auc_score(y_test,y_pred_probs))"
   ]
  },
  {
   "cell_type": "markdown",
   "id": "9b18f383",
   "metadata": {},
   "source": [
    "### Optimización de hiperparámetros"
   ]
  },
  {
   "cell_type": "code",
   "execution_count": 121,
   "id": "dd27a4ca",
   "metadata": {},
   "outputs": [],
   "source": [
    "from sklearn.model_selection import GridSearchCV"
   ]
  },
  {
   "cell_type": "code",
   "execution_count": 122,
   "id": "a60859bb",
   "metadata": {},
   "outputs": [],
   "source": [
    "kf = KFold(n_splits=5,shuffle=True,random_state=42)\n",
    "param_grid = {\"alpha\":np.arange(0.0001,1,10),\"solver\":[\"sag\",\"lsqr\"]}\n",
    "ridge = Ridge()"
   ]
  },
  {
   "cell_type": "code",
   "execution_count": 123,
   "id": "a2170aee",
   "metadata": {},
   "outputs": [
    {
     "name": "stdout",
     "output_type": "stream",
     "text": [
      "{'alpha': 0.0001, 'solver': 'lsqr'} 0.03525257192862676\n"
     ]
    }
   ],
   "source": [
    "ridge_cv = GridSearchCV(ridge,param_grid,cv=kf)\n",
    "ridge_cv.fit(X_train,y_train)\n",
    "print(ridge_cv.best_params_,ridge_cv.best_score_)\n"
   ]
  },
  {
   "cell_type": "code",
   "execution_count": 124,
   "id": "b1f4309c",
   "metadata": {},
   "outputs": [],
   "source": [
    "from sklearn.model_selection import RandomizedSearchCV"
   ]
  },
  {
   "cell_type": "code",
   "execution_count": 125,
   "id": "9baf4f53",
   "metadata": {},
   "outputs": [
    {
     "name": "stdout",
     "output_type": "stream",
     "text": [
      "{'alpha': 0.0001, 'solver': 'lsqr'} 0.03525257192862676\n"
     ]
    }
   ],
   "source": [
    "ridge_cv_r = RandomizedSearchCV(ridge,param_grid,cv=kf,n_iter=2)\n",
    "ridge_cv_r.fit(X_train,y_train)\n",
    "print(ridge_cv.best_params_,ridge_cv.best_score_)"
   ]
  },
  {
   "cell_type": "code",
   "execution_count": 127,
   "id": "4ee85753",
   "metadata": {},
   "outputs": [
    {
     "name": "stdout",
     "output_type": "stream",
     "text": [
      "0.06900622381983401\n"
     ]
    }
   ],
   "source": [
    "test_score = ridge_cv_r.score(X_test,y_test)\n",
    "print(test_score)"
   ]
  },
  {
   "cell_type": "markdown",
   "id": "18ab692e",
   "metadata": {},
   "source": [
    "## Procesamiento y canalizaciones"
   ]
  },
  {
   "cell_type": "markdown",
   "id": "5710e25f",
   "metadata": {},
   "source": [
    "### Procesamiento de datos\n",
    "\n",
    "#### Tratar con rasgos categóricos\n",
    "\n",
    "One-hot: para convertir variables categoricas en variables binarias.\n",
    "\n",
    "- scikit-learn **OneHotEncoder()**\n",
    "- pandas: **get_dummies()**"
   ]
  },
  {
   "cell_type": "code",
   "execution_count": 130,
   "id": "8755ec87",
   "metadata": {},
   "outputs": [],
   "source": [
    "music_df = pd.read_csv('./music_clean.csv')"
   ]
  },
  {
   "cell_type": "code",
   "execution_count": 135,
   "id": "c9de2bf0",
   "metadata": {},
   "outputs": [],
   "source": [
    "music_dummies = pd.get_dummies(music_df[\"genre\"],drop_first=True)"
   ]
  },
  {
   "cell_type": "code",
   "execution_count": 139,
   "id": "73d58d9f",
   "metadata": {},
   "outputs": [],
   "source": [
    "## Unir 2 dataframes\n",
    "music_dummies = pd.concat([music_df,music_dummies],axis=1)\n",
    "music_dummies  = music_dummies.drop(\"genre\",axis=1)"
   ]
  },
  {
   "cell_type": "code",
   "execution_count": 142,
   "id": "e50823e1",
   "metadata": {},
   "outputs": [
    {
     "data": {
      "text/plain": [
       "(1000, 25)"
      ]
     },
     "execution_count": 142,
     "metadata": {},
     "output_type": "execute_result"
    }
   ],
   "source": [
    "music_dummies.shape"
   ]
  },
  {
   "cell_type": "markdown",
   "id": "f0c40b75",
   "metadata": {},
   "source": [
    "##### Ejercicio"
   ]
  },
  {
   "cell_type": "code",
   "execution_count": 145,
   "id": "429df0c1",
   "metadata": {},
   "outputs": [],
   "source": [
    "# Create music_dummies\n",
    "music_dummies = pd.get_dummies(music_df,drop_first=True)\n"
   ]
  },
  {
   "cell_type": "markdown",
   "id": "a4a86f86",
   "metadata": {},
   "source": [
    "#### Tratamiendo de los datos que faltan"
   ]
  },
  {
   "cell_type": "code",
   "execution_count": 148,
   "id": "a4ffbe25",
   "metadata": {},
   "outputs": [
    {
     "data": {
      "text/plain": [
       "Unnamed: 0          0\n",
       "popularity          0\n",
       "acousticness        0\n",
       "danceability        0\n",
       "duration_ms         0\n",
       "energy              0\n",
       "instrumentalness    0\n",
       "liveness            0\n",
       "loudness            0\n",
       "speechiness         0\n",
       "tempo               0\n",
       "valence             0\n",
       "genre               0\n",
       "dtype: int64"
      ]
     },
     "execution_count": 148,
     "metadata": {},
     "output_type": "execute_result"
    }
   ],
   "source": [
    "music_df.isnull().sum()"
   ]
  },
  {
   "cell_type": "markdown",
   "id": "91132834",
   "metadata": {},
   "source": [
    "Un enfoque común es eliminar las observaciones faltantes wue representen menos del 5% de todos los datos."
   ]
  },
  {
   "cell_type": "code",
   "execution_count": 149,
   "id": "91b9d57e",
   "metadata": {},
   "outputs": [],
   "source": [
    "music_df_clean  = music_df.dropna(subset = ['genre','popularity','loudness','liveness','tempo'])"
   ]
  },
  {
   "cell_type": "markdown",
   "id": "121dfce0",
   "metadata": {},
   "source": [
    "Para valores númericos, podemos optar por llenar los valores faltantes el valor promerio de los datos. También se puede usar la mediana. Para valores categóricos, solemos usar el valor más frecuente:moda.\n",
    "\n",
    "Debemos tomar en cuenta que primero tenemos que dividir nuestro datos para evitar que se filtre información del conjunto de pruebas a nuestro modelo. A esto se le llama *la fuga de datos*."
   ]
  },
  {
   "cell_type": "markdown",
   "id": "dc47cbc6",
   "metadata": {},
   "source": [
    "##### Imputación con scikit-learn"
   ]
  },
  {
   "cell_type": "code",
   "execution_count": 150,
   "id": "8934f497",
   "metadata": {},
   "outputs": [],
   "source": [
    "from sklearn.impute import SimpleImputer\n"
   ]
  },
  {
   "cell_type": "code",
   "execution_count": 151,
   "id": "67022228",
   "metadata": {},
   "outputs": [],
   "source": [
    "X_cat = music_df['genre'].values.reshape(-1,1)\n",
    "X_num = music_df.drop(['genre','popularity'],axis=1).values\n",
    "y = music_df['genre'].values"
   ]
  },
  {
   "cell_type": "code",
   "execution_count": 153,
   "id": "fb97ee51",
   "metadata": {},
   "outputs": [],
   "source": [
    "X_train_cat,X_test_cat,y_train_cat,y_test_cat = train_test_split(X_cat,y,test_size=0.2,random_state=42)\n",
    "X_train_num,X_test_num,y_train_num,y_test_num = train_test_split(X_num,y,test_size=0.2,random_state=42)"
   ]
  },
  {
   "cell_type": "code",
   "execution_count": 154,
   "id": "4ceedab8",
   "metadata": {},
   "outputs": [],
   "source": [
    "imp_cat = SimpleImputer(strategy=\"most_frequent\")\n",
    "X_train_cat = imp_cat.fit_transform(X_train_cat)\n",
    "X_test_cat = imp_cat.transform(X_test_cat)"
   ]
  },
  {
   "cell_type": "code",
   "execution_count": 155,
   "id": "f8ae9f42",
   "metadata": {},
   "outputs": [],
   "source": [
    "# por defecto SimpleImputer rellena los datos con la media\n",
    "imp_num = SimpleImputer()\n",
    "\n",
    "X_train_num = imp_num.fit_transform(X_train_num)\n",
    "X_test_num = imp_num.transform(X_test_num)\n",
    "\n",
    "X_train = np.append(X_train_num,X_train_cat,axis=1)\n",
    "X_test = np.append(X_test_num,X_test_cat,axis=1)"
   ]
  },
  {
   "cell_type": "markdown",
   "id": "2d2e6a49",
   "metadata": {},
   "source": [
    "##### Imputación dentro de un pipeline"
   ]
  },
  {
   "cell_type": "code",
   "execution_count": 156,
   "id": "b9a82359",
   "metadata": {},
   "outputs": [],
   "source": [
    "from sklearn.pipeline import Pipeline"
   ]
  },
  {
   "cell_type": "code",
   "execution_count": 157,
   "id": "1cc07740",
   "metadata": {},
   "outputs": [],
   "source": [
    "music_df_clean  = music_df.dropna(subset = ['genre','popularity','loudness','liveness','tempo'])"
   ]
  },
  {
   "cell_type": "code",
   "execution_count": 158,
   "id": "c3a69250",
   "metadata": {},
   "outputs": [],
   "source": [
    "music_df_clean['genre'] = np.where(music_df_clean['genre'] == \"Rock\",1,0)"
   ]
  },
  {
   "cell_type": "code",
   "execution_count": 159,
   "id": "80d2d813",
   "metadata": {},
   "outputs": [],
   "source": [
    "X_m = music_df_clean.drop(\"genre\",axis=1).values\n",
    "y_m = music_df_clean[\"genre\"].values"
   ]
  },
  {
   "cell_type": "code",
   "execution_count": 161,
   "id": "495d2f80",
   "metadata": {},
   "outputs": [],
   "source": [
    "steps = [(\"imputation\",SimpleImputer()),(\"logistic_regression\",LogisticRegression())]\n",
    "pipeline = Pipeline(steps)\n",
    "\n",
    "X_train_m,X_test_m,y_train_m,y_test_m = train_test_split(X_m,y_m,test_size=0.3,random_state=42)\n",
    "\n",
    "#pipeline.fit(X_train_m,y_train_m)\n",
    "#pipeline.score(X_test_m,y_test_m)\n"
   ]
  },
  {
   "cell_type": "markdown",
   "id": "4529af05",
   "metadata": {},
   "source": [
    "#### Centrado y escalado\n",
    "\n",
    "Debemos de escalar nuestros datos ya que las características con mayor escala pueden influir desproporcionalmente en el modelo."
   ]
  },
  {
   "cell_type": "markdown",
   "id": "52cca20d",
   "metadata": {},
   "source": [
    "Una forma de (normalizar) escalar nuestros datos es estarle la media y dividir por la varianza. Así, todas las características estarán centradas en 0 y tendrán varianza 1.\n",
    "\n",
    "Otra forma es restarle el mínimo y dividirlo por el intervalo(rango)."
   ]
  },
  {
   "cell_type": "markdown",
   "id": "0594852b",
   "metadata": {},
   "source": [
    "##### Normalizado\n",
    "\n",
    "$$X_{\\text{new}} = \\frac{X-\\mu}{\\sigma}$$"
   ]
  },
  {
   "cell_type": "code",
   "execution_count": 162,
   "id": "59e07e84",
   "metadata": {},
   "outputs": [],
   "source": [
    "from sklearn.preprocessing import StandardScaler"
   ]
  },
  {
   "cell_type": "code",
   "execution_count": 163,
   "id": "a24e94b8",
   "metadata": {},
   "outputs": [
    {
     "name": "stdout",
     "output_type": "stream",
     "text": [
      "20666.582585618085 68890.98734103922\n",
      "6.361049253471373e-16 1.0000000000000002\n"
     ]
    }
   ],
   "source": [
    "X = music_df.drop(\"genre\",axis=1).values\n",
    "y = music_df['genre'].values\n",
    "X_train, X_test, y_train, y_test = train_test_split(X, y, test_size=0.3, random_state=42)\n",
    "\n",
    "scaler = StandardScaler()\n",
    "X_train_scaled = scaler.fit_transform(X_train)\n",
    "X_test_scaled = scaler.fit_transform(X_test)\n",
    "print(np.mean(X),np.std(X))\n",
    "print(np.mean(X_train_scaled),np.std(X_train_scaled))"
   ]
  },
  {
   "cell_type": "markdown",
   "id": "2b2de46a",
   "metadata": {},
   "source": [
    "##### Escalado en un pipeline"
   ]
  },
  {
   "cell_type": "code",
   "execution_count": 164,
   "id": "46eb5d5a",
   "metadata": {},
   "outputs": [
    {
     "name": "stdout",
     "output_type": "stream",
     "text": [
      "0.9066666666666666\n"
     ]
    }
   ],
   "source": [
    "steps = [('scaler',StandardScaler()),\n",
    "         ('knn',KNeighborsClassifier(n_neighbors=6))]\n",
    "pipeline = Pipeline(steps)\n",
    "\n",
    "knn_scaled = pipeline.fit(X_train,y_train)\n",
    "y_pred = knn_scaled.predict(X_test)\n",
    "print(knn_scaled.score(X_test,y_test))"
   ]
  },
  {
   "cell_type": "markdown",
   "id": "eeb3997d",
   "metadata": {},
   "source": [
    "##### CV y escalado en un pipeline"
   ]
  },
  {
   "cell_type": "code",
   "execution_count": 165,
   "id": "9993e387",
   "metadata": {},
   "outputs": [],
   "source": [
    "from sklearn.model_selection import GridSearchCV\n"
   ]
  },
  {
   "cell_type": "code",
   "execution_count": 167,
   "id": "3e5d91d6",
   "metadata": {},
   "outputs": [
    {
     "name": "stdout",
     "output_type": "stream",
     "text": [
      "0.9242857142857144\n",
      "{'knn__n_neighbors': 4}\n"
     ]
    }
   ],
   "source": [
    "steps = [('scaler',StandardScaler()),\n",
    "         ('knn',KNeighborsClassifier(n_neighbors=6))]\n",
    "pipeline = Pipeline(steps)\n",
    "\n",
    "parameters = {'knn__n_neighbors':np.arange(1,50)}\n",
    "\n",
    "cv = GridSearchCV(pipeline,param_grid=parameters)\n",
    "cv.fit(X_train,y_train)\n",
    "cv.predict(X_test)\n",
    "print(cv.best_score_)\n",
    "print(cv.best_params_)"
   ]
  },
  {
   "cell_type": "markdown",
   "id": "7a057da7",
   "metadata": {},
   "source": [
    "#### Evaluar varios modelos\n",
    "\n",
    "**algunos principios**:\n",
    "\n",
    "- Tamaño del conjunto de datos: Menos características = modelo más simple, tiempo de entrenamiento más rápido.\n",
    "- Algunos modelos requieren grandes cantidades de datos para funcionar bien.\n",
    "- "
   ]
  },
  {
   "cell_type": "markdown",
   "id": "ef527d1e",
   "metadata": {},
   "source": [
    "##### Evaluar modelos de clasificación\n"
   ]
  },
  {
   "cell_type": "code",
   "execution_count": 168,
   "id": "67617577",
   "metadata": {},
   "outputs": [],
   "source": [
    "import matplotlib.pyplot as plt\n",
    "\n",
    "from sklearn.preprocessing import StandardScaler\n",
    "from sklearn.model_selection import cross_val_score, KFold, train_test_split\n",
    "from sklearn.neighbors import KNeighborsClassifier\n",
    "from sklearn.linear_model import LogisticRegression\n",
    "from sklearn.tree import DecisionTreeClassifier"
   ]
  },
  {
   "cell_type": "code",
   "execution_count": 169,
   "id": "7dc2cb9b",
   "metadata": {},
   "outputs": [
    {
     "name": "stderr",
     "output_type": "stream",
     "text": [
      "C:\\Users\\s4tor\\AppData\\Local\\Temp\\ipykernel_16468\\3020516530.py:10: MatplotlibDeprecationWarning: The 'labels' parameter of boxplot() has been renamed 'tick_labels' since Matplotlib 3.9; support for the old name will be dropped in 3.11.\n",
      "  plt.boxplot(results,labels = models.keys())\n"
     ]
    },
    {
     "data": {
      "image/png": "[encoded data removed]",
      "text/plain": [
       "<Figure size 640x480 with 1 Axes>"
      ]
     },
     "metadata": {},
     "output_type": "display_data"
    }
   ],
   "source": [
    "models = {\"Logistic Regression\":LogisticRegression(),\"KNN\":KNeighborsClassifier(),\"Decision Tree\": DecisionTreeClassifier()}\n",
    "\n",
    "results = []\n",
    "\n",
    "for model in models.values():\n",
    "    kf = KFold(n_splits=6,random_state=42,shuffle=True)\n",
    "    cv_results = cross_val_score(model,X_train_scaled,y_train,cv=kf)\n",
    "    results.append(cv_results)\n",
    "\n",
    "plt.boxplot(results,labels = models.keys())\n",
    "plt.show()"
   ]
  },
  {
   "cell_type": "markdown",
   "id": "e783dbaf",
   "metadata": {},
   "source": [
    "##### Rendimiento del conjunto de pruebas "
   ]
  },
  {
   "cell_type": "code",
   "execution_count": 170,
   "id": "1abd87f6",
   "metadata": {},
   "outputs": [
    {
     "name": "stdout",
     "output_type": "stream",
     "text": [
      "Logistic Regression Test Set Accuracy: 0.8866666666666667\n",
      "KNN Test Set Accuracy: 0.89\n",
      "Decision Tree Test Set Accuracy: 1.0\n"
     ]
    }
   ],
   "source": [
    "for name, model in models.items():\n",
    "    model.fit(X_train_scaled,y_train)\n",
    "    test_score = model.score(X_test_scaled,y_test)\n",
    "    print(\"{} Test Set Accuracy: {}\".format(name,test_score))"
   ]
  },
  {
   "cell_type": "code",
   "execution_count": null,
   "id": "14e8f9a9",
   "metadata": {},
   "outputs": [],
   "source": []
  }
 ],
 "metadata": {
  "kernelspec": {
   "display_name": "Python 3",
   "language": "python",
   "name": "python3"
  },
  "language_info": {
   "codemirror_mode": {
    "name": "ipython",
    "version": 3
   },
   "file_extension": ".py",
   "mimetype": "text/x-python",
   "name": "python",
   "nbconvert_exporter": "python",
   "pygments_lexer": "ipython3",
   "version": "3.12.10"
  }
 },
 "nbformat": 4,
 "nbformat_minor": 5
}
